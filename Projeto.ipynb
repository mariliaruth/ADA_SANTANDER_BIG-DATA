{
 "cells": [
  {
   "cell_type": "markdown",
   "metadata": {
    "application/vnd.databricks.v1+cell": {
     "cellMetadata": {},
     "inputWidgets": {},
     "nuid": "9750efcb-a237-440b-b126-ba0d430af67e",
     "showTitle": false,
     "title": ""
    }
   },
   "source": [
    "# Proposição da Nova Arquitetura: \n",
    "Proponha uma arquitetura de banco de dados distribuído que seja adequada para lidar com o \"Cadastro Ambiental Rural\". Explique as escolhas de tecnologias, componentes e a lógica de funcionamento da arquitetura.\n",
    "\n",
    "# Implementação da Arquitetura: \n",
    "Implemente a arquitetura proposta em um ambiente de teste. Isso envolverá a configuração e integração de sistemas de gerenciamento de banco de dados distribuído, servidores, clusters e outros componentes necessários.\n",
    "\n",
    "# Modelagem do Novo Banco de Dados: \n",
    "Modele os dados do \"Cadastro Ambiental Rural\" de acordo com a arquitetura proposta.\n",
    "\n",
    "#Projeto de Particionamento Adequado/efetivo: \n",
    "Projete um esquema de particionamento que permita a distribuição eficiente dos dados.\n",
    "\n",
    "# Consulta 1\n",
    "Recupere a soma de área (em hectares) para todas as propriedades agrícolas que pertencem ao MS e MT. Ordene os resultados em ordem decrescente.\n",
    "# Consulta 2\n",
    "Filtre todas as propriedades que pertecem a região sudeste.\n",
    "# Consulta 3\n",
    "Calcule quantas propriedades foram cadastradas por ano. Apresente os resultados em ordem cronológica."
   ]
  },
  {
   "cell_type": "code",
   "execution_count": 1,
   "metadata": {
    "application/vnd.databricks.v1+cell": {
     "cellMetadata": {
      "byteLimit": 2048000,
      "rowLimit": 10000
     },
     "inputWidgets": {},
     "nuid": "3bd24e28-74c9-468c-a6cc-0768f17bfd6d",
     "showTitle": false,
     "title": ""
    }
   },
   "outputs": [],
   "source": [
    "link='https://dados.agricultura.gov.br/dataset/58bdc09c-9778-42b9-8fce-7d5c2c4fa211/resource/daf8053b-5446-4cd4-986a-f141b4a434ec/download/temas_ambientais.csv'"
   ]
  },
  {
   "cell_type": "code",
   "execution_count": 6,
   "metadata": {
    "application/vnd.databricks.v1+cell": {
     "cellMetadata": {},
     "inputWidgets": {},
     "nuid": "e0a483ac-7a90-4674-9849-a12532bf3846",
     "showTitle": false,
     "title": ""
    }
   },
   "outputs": [],
   "source": [
    "import pandas as pd\n",
    "df = pd.read_csv('temas_ambientais.csv',low_memory=False, on_bad_lines='skip' )"
   ]
  },
  {
   "cell_type": "code",
   "execution_count": 7,
   "metadata": {},
   "outputs": [],
   "source": [
    "df.to_parquet('temas_ambientais.parquet', index=False)"
   ]
  },
  {
   "cell_type": "code",
   "execution_count": null,
   "metadata": {},
   "outputs": [],
   "source": []
  }
 ],
 "metadata": {
  "application/vnd.databricks.v1+notebook": {
   "dashboards": [],
   "language": "python",
   "notebookMetadata": {
    "pythonIndentUnit": 4
   },
   "notebookName": "Projeto",
   "widgets": {}
  },
  "kernelspec": {
   "display_name": ".venv",
   "language": "python",
   "name": "python3"
  },
  "language_info": {
   "codemirror_mode": {
    "name": "ipython",
    "version": 3
   },
   "file_extension": ".py",
   "mimetype": "text/x-python",
   "name": "python",
   "nbconvert_exporter": "python",
   "pygments_lexer": "ipython3",
   "version": "3.9.6"
  }
 },
 "nbformat": 4,
 "nbformat_minor": 0
}
